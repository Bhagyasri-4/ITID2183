{
  "nbformat": 4,
  "nbformat_minor": 0,
  "metadata": {
    "colab": {
      "private_outputs": true,
      "provenance": []
    },
    "kernelspec": {
      "name": "python3",
      "display_name": "Python 3"
    },
    "language_info": {
      "name": "python"
    }
  },
  "cells": [
    {
      "cell_type": "code",
      "execution_count": null,
      "metadata": {
        "id": "IfUTK0aP0I-C"
      },
      "outputs": [],
      "source": [
        "\n",
        "!pip install xgboost tensorflow seaborn\n",
        "import pandas as pd\n",
        "import numpy as np\n",
        "import matplotlib.pyplot as plt\n",
        "import seaborn as sns\n",
        "from sklearn.model_selection import train_test_split\n",
        "from sklearn.preprocessing import MinMaxScaler\n",
        "from sklearn.metrics import mean_absolute_error, mean_squared_error, r2_score\n",
        "from xgboost import XGBRegressor\n",
        "from google.colab import files\n",
        "uploaded = files.upload()\n",
        "df = pd.read_csv(\"/content/bitcoin.csv\")\n",
        "df['Date'] = pd.to_datetime(df['Date'])\n",
        "df.set_index('Date', inplace=True)\n",
        "df.fillna(method='ffill', inplace=True)\n",
        "scaler = MinMaxScaler()\n",
        "df[['Open','High','Low','Close','Volume']] = scaler.fit_transform(df[['Open','High','Low','Close','Volume']])\n",
        "print(\"Dataset Shape:\", df.shape)\n",
        "print(df.head())\n",
        "plt.figure(figsize=(12,6))\n",
        "plt.plot(df['Close'], label='Bitcoin Price')\n",
        "plt.title(\"Bitcoin Closing Price Over Time\")\n",
        "plt.xlabel(\"Date\")\n",
        "plt.ylabel(\"Normalized Price\")\n",
        "plt.legend()\n",
        "plt.show()\n",
        "plt.figure(figsize=(8,6))\n",
        "sns.heatmap(df.corr(), annot=True, cmap='coolwarm')\n",
        "plt.title(\"Feature Correlation\")\n",
        "plt.show()\n",
        "X = df.drop('Close', axis=1)\n",
        "y = df['Close']\n",
        "\n",
        "X_train, X_test, y_train, y_test = train_test_split(\n",
        "    X, y, test_size=0.2, shuffle=False\n",
        ")\n",
        "model = XGBRegressor()\n",
        "model.fit(X_train, y_train)\n",
        "y_pred = model.predict(X_test)\n",
        "mae = mean_absolute_error(y_test, y_pred)\n",
        "mse = mean_squared_error(y_test, y_pred)\n",
        "r2 = r2_score(y_test, y_pred)\n",
        "print(\"Model Evaluation:\")\n",
        "print(\"MAE:\", mae)\n",
        "print(\"MSE:\", mse)\n",
        "print(\"R²:\", r2)\n",
        "plt.figure(figsize=(12,6))\n",
        "plt.plot(y_test.values, label=\"Actual Price\")\n",
        "plt.plot(y_pred, label=\"Predicted Price\")\n",
        "plt.title(\"Actual vs Predicted Bitcoin Prices\")\n",
        "plt.xlabel(\"Time\")\n",
        "plt.ylabel(\"Normalized Price\")\n",
        "plt.legend()\n",
        "plt.show()\n"
      ]
    }
  ]
}