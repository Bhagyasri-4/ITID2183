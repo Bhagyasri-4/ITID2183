{
  "nbformat": 4,
  "nbformat_minor": 0,
  "metadata": {
    "colab": {
      "private_outputs": true,
      "provenance": []
    },
    "kernelspec": {
      "name": "python3",
      "display_name": "Python 3"
    },
    "language_info": {
      "name": "python"
    }
  },
  "cells": [
    {
      "cell_type": "code",
      "execution_count": null,
      "metadata": {
        "id": "PGuaevSpL8ln"
      },
      "outputs": [],
      "source": [
        "import numpy as np\n",
        "import pandas as pd\n",
        "from sklearn.model_selection import train_test_split\n",
        "from sklearn.linear_model import LogisticRegression\n",
        "from sklearn.metrics import accuracy_score\n",
        "data = pd.read_csv(\"/content/data (1).csv\")\n",
        "print(data.head())\n",
        "print(data.shape)\n",
        "print(data.info())\n",
        "print(data.isnull().sum())\n",
        "# Drop the 'Unnamed: 32' column as it contains only missing values\n",
        "data = data.drop(columns='Unnamed: 32', axis=1)\n",
        "# Also drop the 'id' column as it is not a feature\n",
        "data = data.drop(columns='id', axis=1)\n",
        "X = data.drop(columns='diagnosis', axis=1)\n",
        "Y = data['diagnosis']\n",
        "X_train, X_test, Y_train, Y_test = train_test_split(\n",
        "    X, Y, test_size=0.2, random_state=2\n",
        ")\n",
        "model = LogisticRegression(max_iter=5000)\n",
        "model.fit(X_train, Y_train)\n",
        "train_pred = model.predict(X_train)\n",
        "train_accuracy = accuracy_score(Y_train, train_pred)\n",
        "\n",
        "test_pred = model.predict(X_test)\n",
        "test_accuracy = accuracy_score(Y_test, test_pred)\n",
        "\n",
        "print(\"Accuracy on Training Data:\", train_accuracy)\n",
        "print(\" Accuracy on Testing Data:\", test_accuracy)\n",
        "input_data = (13.54,14.36,87.46,566.3,0.09779,0.08129,0.06664,0.04781,0.1885,0.05766,\n",
        "              0.2699,0.7886,2.058,23.56,0.008462,0.0146,0.02387,0.01315,0.0198,0.0023,\n",
        "              15.11,19.26,99.7,711.2,0.144,0.1773,0.239,0.1288,0.2977,0.07259)\n",
        "\n",
        "input_data_np = np.asarray(input_data).reshape(1, -1)\n",
        "\n",
        "prediction = model.predict(input_data_np)\n",
        "\n",
        "if prediction[0] == 0:\n",
        "    print(\"The Breast Cancer is Malignant\")\n",
        "else:\n",
        "    print(\"The Breast Cancer is Benign\")"
      ]
    }
  ]
}